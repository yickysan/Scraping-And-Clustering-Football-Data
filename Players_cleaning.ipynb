{
 "cells": [
  {
   "cell_type": "markdown",
   "id": "8c732843-00e3-4dcd-98f0-882e7b648436",
   "metadata": {},
   "source": [
    "## Data Cleaning For Stats Data"
   ]
  },
  {
   "cell_type": "markdown",
   "id": "bbc55662-b78d-4a5f-a7b7-000717c33da7",
   "metadata": {},
   "source": [
    "This project contains data of players that was scraped by me from fbref.com. The goal of this project is to clean the data so it can be used to create a KMeans clustering algorithim. One of the challenges faced is that players who have been used in more than one position in matches have two positions recorded in the data. The first approach was to take only the first position for players with two positions but that would have led to some of the players position being in accurate. To solve this problem it was neccessary to go back and scrape the squad data for the leagues present in the original data set and use the position from the squad data to update the position in the original dataset. The second problem with cleaning the data was that the player names in the original dataset and the squad dataset were inconsistent so the names could not be used as a unique identifier to fix the player position problem. The last resort was to use `scikit-learn` text extraction function `TfidfVectorizer` and then use `cosine_similarity` to compare how similar two player names are and update the position with the position of the player with the most similar name."
   ]
  },
  {
   "cell_type": "code",
   "execution_count": 1,
   "id": "1f313086-7f6b-47cc-8b91-1fa6e552fbe3",
   "metadata": {},
   "outputs": [],
   "source": [
    "#importing required libraries\n",
    "import pandas as pd\n",
    "import numpy as np\n",
    "import re\n",
    "from sklearn.feature_extraction.text import TfidfVectorizer\n",
    "from sklearn.metrics.pairwise import cosine_similarity"
   ]
  },
  {
   "cell_type": "code",
   "execution_count": 2,
   "id": "a59de327-10d9-45a5-8edb-c7c6dec34a20",
   "metadata": {},
   "outputs": [],
   "source": [
    "pd.set_option(\"display.max_columns\", None)"
   ]
  },
  {
   "cell_type": "code",
   "execution_count": 3,
   "id": "8a530294-ed8c-4d0f-9ae2-790554cd7141",
   "metadata": {},
   "outputs": [],
   "source": [
    "defense = pd.read_csv(\"defense.csv\")\n",
    "passing = pd.read_csv(\"passing.csv\")\n",
    "shooting = pd.read_csv(\"shooting.csv\")\n",
    "goalkeeping = pd.read_csv(\"goalkeeping.csv\")\n",
    "gca = pd.read_csv(\"gca.csv\")"
   ]
  },
  {
   "cell_type": "code",
   "execution_count": 4,
   "id": "b2631820-d4b3-486f-93d7-b85de3bf4565",
   "metadata": {
    "scrolled": false
   },
   "outputs": [
    {
     "name": "stdout",
     "output_type": "stream",
     "text": [
      "<class 'pandas.core.frame.DataFrame'>\n",
      "RangeIndex: 2889 entries, 0 to 2888\n",
      "Data columns (total 26 columns):\n",
      " #   Column                          Non-Null Count  Dtype  \n",
      "---  ------                          --------------  -----  \n",
      " 0   (Unnamed: 0_level_0, Rk)        2889 non-null   int64  \n",
      " 1   (Unnamed: 1_level_0, Player)    2889 non-null   object \n",
      " 2   (Unnamed: 2_level_0, Nation)    2888 non-null   object \n",
      " 3   (Unnamed: 3_level_0, Pos)       2889 non-null   object \n",
      " 4   (Unnamed: 4_level_0, Squad)     2889 non-null   object \n",
      " 5   (Unnamed: 5_level_0, Comp)      2889 non-null   object \n",
      " 6   (Unnamed: 6_level_0, Age)       2889 non-null   int64  \n",
      " 7   (Unnamed: 7_level_0, Born)      2889 non-null   int64  \n",
      " 8   (Unnamed: 8_level_0, 90s)       2889 non-null   float64\n",
      " 9   (SCA, SCA)                      2885 non-null   float64\n",
      " 10  (SCA, SCA90)                    2885 non-null   float64\n",
      " 11  (SCA Types, PassLive)           2885 non-null   float64\n",
      " 12  (SCA Types, PassDead)           2885 non-null   float64\n",
      " 13  (SCA Types, TO)                 2885 non-null   float64\n",
      " 14  (SCA Types, Sh)                 2885 non-null   float64\n",
      " 15  (SCA Types, Fld)                2885 non-null   float64\n",
      " 16  (SCA Types, Def)                2885 non-null   float64\n",
      " 17  (GCA, GCA)                      2885 non-null   float64\n",
      " 18  (GCA, GCA90)                    2885 non-null   float64\n",
      " 19  (GCA Types, PassLive)           2885 non-null   float64\n",
      " 20  (GCA Types, PassDead)           2885 non-null   float64\n",
      " 21  (GCA Types, TO)                 2885 non-null   float64\n",
      " 22  (GCA Types, Sh)                 2885 non-null   float64\n",
      " 23  (GCA Types, Fld)                2885 non-null   float64\n",
      " 24  (GCA Types, Def)                2885 non-null   float64\n",
      " 25  (Unnamed: 25_level_0, Matches)  2889 non-null   object \n",
      "dtypes: float64(17), int64(3), object(6)\n",
      "memory usage: 587.0+ KB\n"
     ]
    }
   ],
   "source": [
    "gca.info()"
   ]
  },
  {
   "cell_type": "code",
   "execution_count": 5,
   "id": "c103f0e8",
   "metadata": {
    "scrolled": false
   },
   "outputs": [
    {
     "name": "stdout",
     "output_type": "stream",
     "text": [
      "<class 'pandas.core.frame.DataFrame'>\n",
      "RangeIndex: 2889 entries, 0 to 2888\n",
      "Data columns (total 27 columns):\n",
      " #   Column                          Non-Null Count  Dtype  \n",
      "---  ------                          --------------  -----  \n",
      " 0   (Unnamed: 0_level_0, Rk)        2889 non-null   int64  \n",
      " 1   (Unnamed: 1_level_0, Player)    2889 non-null   object \n",
      " 2   (Unnamed: 2_level_0, Nation)    2888 non-null   object \n",
      " 3   (Unnamed: 3_level_0, Pos)       2889 non-null   object \n",
      " 4   (Unnamed: 4_level_0, Squad)     2889 non-null   object \n",
      " 5   (Unnamed: 5_level_0, Comp)      2889 non-null   object \n",
      " 6   (Unnamed: 6_level_0, Age)       2889 non-null   int64  \n",
      " 7   (Unnamed: 7_level_0, Born)      2889 non-null   int64  \n",
      " 8   (Unnamed: 8_level_0, 90s)       2889 non-null   float64\n",
      " 9   (Standard, Gls)                 2889 non-null   int64  \n",
      " 10  (Standard, Sh)                  2889 non-null   int64  \n",
      " 11  (Standard, SoT)                 2889 non-null   int64  \n",
      " 12  (Standard, SoT%)                2361 non-null   float64\n",
      " 13  (Standard, Sh/90)               2889 non-null   float64\n",
      " 14  (Standard, SoT/90)              2889 non-null   float64\n",
      " 15  (Standard, G/Sh)                2361 non-null   float64\n",
      " 16  (Standard, G/SoT)               1996 non-null   float64\n",
      " 17  (Standard, Dist)                2360 non-null   float64\n",
      " 18  (Standard, FK)                  2885 non-null   float64\n",
      " 19  (Standard, PK)                  2889 non-null   int64  \n",
      " 20  (Standard, PKatt)               2889 non-null   int64  \n",
      " 21  (Expected, xG)                  2885 non-null   float64\n",
      " 22  (Expected, npxG)                2885 non-null   float64\n",
      " 23  (Expected, npxG/Sh)             2360 non-null   float64\n",
      " 24  (Expected, G-xG)                2885 non-null   float64\n",
      " 25  (Expected, np:G-xG)             2885 non-null   float64\n",
      " 26  (Unnamed: 26_level_0, Matches)  2889 non-null   object \n",
      "dtypes: float64(13), int64(8), object(6)\n",
      "memory usage: 609.5+ KB\n"
     ]
    }
   ],
   "source": [
    "shooting.info()"
   ]
  },
  {
   "cell_type": "code",
   "execution_count": 6,
   "id": "38db4eaa",
   "metadata": {},
   "outputs": [
    {
     "name": "stdout",
     "output_type": "stream",
     "text": [
      "<class 'pandas.core.frame.DataFrame'>\n",
      "RangeIndex: 2889 entries, 0 to 2888\n",
      "Data columns (total 33 columns):\n",
      " #   Column                          Non-Null Count  Dtype  \n",
      "---  ------                          --------------  -----  \n",
      " 0   (Unnamed: 0_level_0, Rk)        2889 non-null   int64  \n",
      " 1   (Unnamed: 1_level_0, Player)    2889 non-null   object \n",
      " 2   (Unnamed: 2_level_0, Nation)    2888 non-null   object \n",
      " 3   (Unnamed: 3_level_0, Pos)       2889 non-null   object \n",
      " 4   (Unnamed: 4_level_0, Squad)     2889 non-null   object \n",
      " 5   (Unnamed: 5_level_0, Comp)      2889 non-null   object \n",
      " 6   (Unnamed: 6_level_0, Age)       2889 non-null   int64  \n",
      " 7   (Unnamed: 7_level_0, Born)      2889 non-null   int64  \n",
      " 8   (Unnamed: 8_level_0, 90s)       2889 non-null   float64\n",
      " 9   (Total, Cmp)                    2885 non-null   float64\n",
      " 10  (Total, Att)                    2885 non-null   float64\n",
      " 11  (Total, Cmp%)                   2861 non-null   float64\n",
      " 12  (Total, TotDist)                2885 non-null   float64\n",
      " 13  (Total, PrgDist)                2885 non-null   float64\n",
      " 14  (Short, Cmp)                    2885 non-null   float64\n",
      " 15  (Short, Att)                    2885 non-null   float64\n",
      " 16  (Short, Cmp%)                   2835 non-null   float64\n",
      " 17  (Medium, Cmp)                   2885 non-null   float64\n",
      " 18  (Medium, Att)                   2885 non-null   float64\n",
      " 19  (Medium, Cmp%)                  2813 non-null   float64\n",
      " 20  (Long, Cmp)                     2885 non-null   float64\n",
      " 21  (Long, Att)                     2885 non-null   float64\n",
      " 22  (Long, Cmp%)                    2706 non-null   float64\n",
      " 23  (Unnamed: 23_level_0, Ast)      2889 non-null   int64  \n",
      " 24  (Unnamed: 24_level_0, xAG)      2885 non-null   float64\n",
      " 25  (Unnamed: 25_level_0, xA)       2885 non-null   float64\n",
      " 26  (Unnamed: 26_level_0, A-xAG)    2885 non-null   float64\n",
      " 27  (Unnamed: 27_level_0, KP)       2885 non-null   float64\n",
      " 28  (Unnamed: 28_level_0, 1/3)      2885 non-null   float64\n",
      " 29  (Unnamed: 29_level_0, PPA)      2885 non-null   float64\n",
      " 30  (Unnamed: 30_level_0, CrsPA)    2885 non-null   float64\n",
      " 31  (Unnamed: 31_level_0, PrgP)     2885 non-null   float64\n",
      " 32  (Unnamed: 32_level_0, Matches)  2889 non-null   object \n",
      "dtypes: float64(23), int64(4), object(6)\n",
      "memory usage: 744.9+ KB\n"
     ]
    }
   ],
   "source": [
    "passing.info()"
   ]
  },
  {
   "cell_type": "code",
   "execution_count": 7,
   "id": "6997b1a9",
   "metadata": {
    "scrolled": false
   },
   "outputs": [
    {
     "name": "stdout",
     "output_type": "stream",
     "text": [
      "<class 'pandas.core.frame.DataFrame'>\n",
      "RangeIndex: 208 entries, 0 to 207\n",
      "Data columns (total 28 columns):\n",
      " #   Column                          Non-Null Count  Dtype  \n",
      "---  ------                          --------------  -----  \n",
      " 0   (Unnamed: 0_level_0, Rk)        208 non-null    int64  \n",
      " 1   (Unnamed: 1_level_0, Player)    208 non-null    object \n",
      " 2   (Unnamed: 2_level_0, Nation)    208 non-null    object \n",
      " 3   (Unnamed: 3_level_0, Pos)       208 non-null    object \n",
      " 4   (Unnamed: 4_level_0, Squad)     208 non-null    object \n",
      " 5   (Unnamed: 5_level_0, Comp)      208 non-null    object \n",
      " 6   (Unnamed: 6_level_0, Age)       208 non-null    int64  \n",
      " 7   (Unnamed: 7_level_0, Born)      208 non-null    int64  \n",
      " 8   (Playing Time, MP)              208 non-null    int64  \n",
      " 9   (Playing Time, Starts)          208 non-null    int64  \n",
      " 10  (Playing Time, Min)             208 non-null    int64  \n",
      " 11  (Unnamed: 11_level_0, 90s)      208 non-null    float64\n",
      " 12  (Performance, GA)               207 non-null    float64\n",
      " 13  (Performance, GA90)             207 non-null    float64\n",
      " 14  (Performance, SoTA)             207 non-null    float64\n",
      " 15  (Performance, Saves)            207 non-null    float64\n",
      " 16  (Performance, Save%)            204 non-null    float64\n",
      " 17  (Performance, W)                208 non-null    int64  \n",
      " 18  (Performance, D)                207 non-null    float64\n",
      " 19  (Performance, L)                207 non-null    float64\n",
      " 20  (Performance, CS)               207 non-null    float64\n",
      " 21  (Performance, CS%)              195 non-null    float64\n",
      " 22  (Penalty Kicks, PKatt)          207 non-null    float64\n",
      " 23  (Penalty Kicks, PKA)            207 non-null    float64\n",
      " 24  (Penalty Kicks, PKsv)           207 non-null    float64\n",
      " 25  (Penalty Kicks, PKm)            207 non-null    float64\n",
      " 26  (Penalty Kicks, Save%)          148 non-null    float64\n",
      " 27  (Unnamed: 27_level_0, Matches)  208 non-null    object \n",
      "dtypes: float64(15), int64(7), object(6)\n",
      "memory usage: 45.6+ KB\n"
     ]
    }
   ],
   "source": [
    "goalkeeping.info()"
   ]
  },
  {
   "cell_type": "code",
   "execution_count": 8,
   "id": "d73953dc",
   "metadata": {},
   "outputs": [
    {
     "name": "stdout",
     "output_type": "stream",
     "text": [
      "<class 'pandas.core.frame.DataFrame'>\n",
      "RangeIndex: 2889 entries, 0 to 2888\n",
      "Data columns (total 26 columns):\n",
      " #   Column                          Non-Null Count  Dtype  \n",
      "---  ------                          --------------  -----  \n",
      " 0   (Unnamed: 0_level_0, Rk)        2889 non-null   int64  \n",
      " 1   (Unnamed: 1_level_0, Player)    2889 non-null   object \n",
      " 2   (Unnamed: 2_level_0, Nation)    2888 non-null   object \n",
      " 3   (Unnamed: 3_level_0, Pos)       2889 non-null   object \n",
      " 4   (Unnamed: 4_level_0, Squad)     2889 non-null   object \n",
      " 5   (Unnamed: 5_level_0, Comp)      2889 non-null   object \n",
      " 6   (Unnamed: 6_level_0, Age)       2889 non-null   int64  \n",
      " 7   (Unnamed: 7_level_0, Born)      2889 non-null   int64  \n",
      " 8   (Unnamed: 8_level_0, 90s)       2889 non-null   float64\n",
      " 9   (Tackles, Tkl)                  2885 non-null   float64\n",
      " 10  (Tackles, TklW)                 2889 non-null   int64  \n",
      " 11  (Tackles, Def 3rd)              2885 non-null   float64\n",
      " 12  (Tackles, Mid 3rd)              2885 non-null   float64\n",
      " 13  (Tackles, Att 3rd)              2885 non-null   float64\n",
      " 14  (Challenges, Tkl)               2885 non-null   float64\n",
      " 15  (Challenges, Att)               2885 non-null   float64\n",
      " 16  (Challenges, Tkl%)              2535 non-null   float64\n",
      " 17  (Challenges, Lost)              2885 non-null   float64\n",
      " 18  (Blocks, Blocks)                2885 non-null   float64\n",
      " 19  (Blocks, Sh)                    2885 non-null   float64\n",
      " 20  (Blocks, Pass)                  2885 non-null   float64\n",
      " 21  (Unnamed: 21_level_0, Int)      2889 non-null   int64  \n",
      " 22  (Unnamed: 22_level_0, Tkl+Int)  2885 non-null   float64\n",
      " 23  (Unnamed: 23_level_0, Clr)      2885 non-null   float64\n",
      " 24  (Unnamed: 24_level_0, Err)      2885 non-null   float64\n",
      " 25  (Unnamed: 25_level_0, Matches)  2889 non-null   object \n",
      "dtypes: float64(15), int64(5), object(6)\n",
      "memory usage: 587.0+ KB\n"
     ]
    }
   ],
   "source": [
    "defense.info()"
   ]
  },
  {
   "cell_type": "markdown",
   "id": "4ef9849d",
   "metadata": {},
   "source": [
    "All of the columns are multi-index columns. Some of the column names in the second level of the columns have duplicate names and so the column name on the first level give meaning to those columns. To fix the column names, a combination of both the first and second level column name will be done for columns with duplicates in the second level and then the first level will be dropped."
   ]
  },
  {
   "cell_type": "code",
   "execution_count": 9,
   "id": "39b303ac",
   "metadata": {
    "scrolled": true
   },
   "outputs": [],
   "source": [
    "passing.columns = [col[1].lower() if \"Unnamed\" in col[0]\n",
    "                  else f\"{col[0]}_{col[1]}\".lower().replace(\" \", \"_\")\n",
    "                  for col in passing.columns]\n",
    "\n",
    "gca.columns = [col[1].lower() if \"Unnamed\" in col[0] or \"SCA\" in col[1] or \"GCA\" in col[1]\n",
    "               else f\"{col[0]}_{col[1]}\".lower().replace(\"types_\", \"\").replace(\" \", \"_\")\n",
    "               for col in gca.columns]\n",
    "\n",
    "\n",
    "defense.columns = [col[1].lower() if \"Unnamed\" in col[0] or \"Blocks\" in col[1]\n",
    "                  else f\"{col[0]}_{col[1]}\".lower().replace(\" \", \"_\")\n",
    "                  for col in defense.columns]\n",
    "\n",
    "shooting.columns = shooting.columns.droplevel().str.lower()\n",
    "goalkeeping.columns = [col[1].replace(\"Save%\", \"pk_save%\") if \"Penalty Kicks\" in col[0]\n",
    "                        and \"Save%\" in col[1] else col[1].lower() for col in goalkeeping.columns]"
   ]
  },
  {
   "cell_type": "markdown",
   "id": "ba1bb05b-1bb7-4db5-bfd4-63711ab40f43",
   "metadata": {},
   "source": [
    "To clean the data, several functions that each perform a specific data cleaning task will be written. \n",
    "\n",
    "* The squad data have their positions spelled in full. This will be replaced with an abbreviation for the position to match that of the stats data. E.g `Defender` will become `DF`. This will be done by the first fucntion.\n",
    "* The next two functions `get_player_position` and `pos_clean` is used to query the squad data and use the player position from the squad data to replace the position of players who have more than 1 position in the stats data.\n",
    "* The last two functions `clean` and `save_data` are used to do the final data cleaning and to save the dataframe respectfully. "
   ]
  },
  {
   "cell_type": "code",
   "execution_count": 10,
   "id": "a3557852",
   "metadata": {},
   "outputs": [],
   "source": [
    "pl_squads = pd.read_parquet(\"pl_squads.csv\")\n",
    "la_liga_squads = pd.read_parquet(\"laliga_squads.csv\")\n",
    "ligue1_squads = pd.read_parquet(\"ligue1_squads.csv\")\n",
    "bundesliga_squads = pd.read_parquet(\"bundesliga_squads.csv\")\n",
    "\n",
    "# the column name of the bundesliga dataframe isnt't consistent with the rest\n",
    "# It had to be corrected using one the column names from the previous dataframes\n",
    "serie_a_squads = pd.read_parquet(\"serie_a_squads.parquet\")\n",
    "\n",
    "bundesliga_squads.columns = pl_squads.columns \n",
    "\n",
    "top5_leagues = pd.concat([pl_squads, la_liga_squads, ligue1_squads, bundesliga_squads, serie_a_squads])\n",
    "top5_leagues.reset_index(drop=True, inplace=True)"
   ]
  },
  {
   "cell_type": "code",
   "execution_count": 11,
   "id": "b2c28d44-d8e3-4421-b381-cbe48c59f336",
   "metadata": {},
   "outputs": [],
   "source": [
    "def clean_squad_positions(df_: pd.DataFrame) -> pd.DataFrame:\n",
    "    return (df_.assign(position = df_[\"position\"].apply(\n",
    "        lambda x: \"GK\" if x == \"Goalkeeper\" else \"DF\" if x == \"Defender\"\n",
    "                    else \"MF\" if x == \"Midfielder\" else \"FW\")\n",
    "                      )\n",
    "           )"
   ]
  },
  {
   "cell_type": "code",
   "execution_count": 12,
   "id": "70e503fa",
   "metadata": {},
   "outputs": [],
   "source": [
    "top5_leagues = clean_squad_positions(top5_leagues)"
   ]
  },
  {
   "cell_type": "code",
   "execution_count": 13,
   "id": "3933345c-72b1-42fa-a377-79b6d873db54",
   "metadata": {},
   "outputs": [],
   "source": [
    "def get_player_position(player_name: str) -> str:\n",
    "    \"\"\" Function to get the correct player position\"\"\"\n",
    "    vectorizer = TfidfVectorizer(ngram_range = (1,2)) # using both a unigram and bigram to match on when either one or two of the names match\n",
    "    tfidf = vectorizer.fit_transform(top5_leagues[\"player_name\"])\n",
    "    search_vector = vectorizer.transform([player_name])\n",
    "    similarity = cosine_similarity(search_vector, tfidf).flatten()\n",
    "    index = np.where(similarity == similarity.max()) # returns the index of the player name that matches the most\n",
    "    position = top5_leagues.loc[index][\"position\"].values[0]\n",
    "    \n",
    "    return position"
   ]
  },
  {
   "cell_type": "code",
   "execution_count": 14,
   "id": "ccab348d-e911-452e-91c2-32352af96d5f",
   "metadata": {},
   "outputs": [],
   "source": [
    "def pos_clean(df_: pd.DataFrame) -> pd.DataFrame:\n",
    "    double_players = df_.loc[df_[\"pos\"].apply(len) > 2].copy()\n",
    "    double_players_index = double_players.index\n",
    "    df_.loc[double_players_index, \"pos\"] = double_players[\"player\"].apply(get_player_position)\n",
    "    \n",
    "    return df_\n",
    "    "
   ]
  },
  {
   "cell_type": "code",
   "execution_count": 15,
   "id": "626a3bc6",
   "metadata": {},
   "outputs": [],
   "source": [
    "def clean(df_: pd.DataFrame) -> pd.DataFrame:\n",
    "    \"\"\"Function to clean the stats dataframe\"\"\"\n",
    "    \n",
    "    return (df_.drop([\"rk\", \"matches\"], axis=1)\n",
    "            .assign(nation = gca[\"nation\"].str.extract(r\"([A-Z]+)\").fillna(\"ENG\"),\n",
    "                    comp = df_[\"comp\"].apply(lambda x: \" \".join(x.split()[1:]))\n",
    "                    )\n",
    "            .pipe(pos_clean)\n",
    "            .fillna(0.0)\n",
    "           )\n"
   ]
  },
  {
   "cell_type": "code",
   "execution_count": 16,
   "id": "98d3fd8a",
   "metadata": {},
   "outputs": [],
   "source": [
    "def save_data() -> None:\n",
    "    dfs = [defense, passing, shooting, goalkeeping, gca]\n",
    "    names = [\"defense\", \"passing\", \"shooting\", \"goalkeeping\", \"gca\"]\n",
    "    \n",
    "    for df, name in zip(dfs, names):\n",
    "        df = clean(df)\n",
    "        df.to_parquet(f\"{name}.csv\", index=False)"
   ]
  },
  {
   "cell_type": "code",
   "execution_count": 17,
   "id": "86837de2",
   "metadata": {
    "scrolled": false
   },
   "outputs": [],
   "source": [
    "save_data()"
   ]
  }
 ],
 "metadata": {
  "kernelspec": {
   "display_name": "Python 3 (ipykernel)",
   "language": "python",
   "name": "python3"
  },
  "language_info": {
   "codemirror_mode": {
    "name": "ipython",
    "version": 3
   },
   "file_extension": ".py",
   "mimetype": "text/x-python",
   "name": "python",
   "nbconvert_exporter": "python",
   "pygments_lexer": "ipython3",
   "version": "3.9.13"
  }
 },
 "nbformat": 4,
 "nbformat_minor": 5
}
